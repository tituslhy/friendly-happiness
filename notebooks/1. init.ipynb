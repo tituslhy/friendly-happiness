{
 "cells": [
  {
   "cell_type": "code",
   "execution_count": 1,
   "id": "3737c40b",
   "metadata": {},
   "outputs": [],
   "source": [
    "%load_ext autoreload\n",
    "%autoreload 2"
   ]
  },
  {
   "cell_type": "code",
   "execution_count": 2,
   "id": "714ad3a3",
   "metadata": {},
   "outputs": [],
   "source": [
    "import os\n",
    "from dotenv import load_dotenv, find_dotenv\n",
    "import nest_asyncio\n",
    "\n",
    "nest_asyncio.apply()\n",
    "_ = load_dotenv(find_dotenv())"
   ]
  },
  {
   "cell_type": "markdown",
   "id": "266899e2",
   "metadata": {},
   "source": [
    "## Hello World"
   ]
  },
  {
   "cell_type": "code",
   "execution_count": 3,
   "id": "7090c304",
   "metadata": {},
   "outputs": [
    {
     "name": "stdout",
     "output_type": "stream",
     "text": [
      "\"Hello, world!\" originated as a sample program in Brian Kernighan's 1972 tutorial on the programming language B.\n",
      "\n"
     ]
    }
   ],
   "source": [
    "from pydantic_ai import Agent\n",
    "\n",
    "agent = Agent(  \n",
    "    'google-gla:gemini-1.5-flash',\n",
    "    system_prompt='Be concise, reply with one sentence.',  \n",
    ")\n",
    "\n",
    "result = agent.run_sync('Where does \"hello world\" come from?')  \n",
    "print(result.output)"
   ]
  },
  {
   "cell_type": "markdown",
   "id": "c5bac518",
   "metadata": {},
   "source": [
    "## Single Agent with Tools"
   ]
  },
  {
   "cell_type": "code",
   "execution_count": null,
   "id": "9a482cef",
   "metadata": {},
   "outputs": [],
   "source": [
    "from dataclasses import dataclass\n",
    "from pydantic import BaseModel, Field\n",
    "from pydantic_ai import Agent, RunContext"
   ]
  },
  {
   "cell_type": "markdown",
   "id": "0db015d0",
   "metadata": {},
   "source": [
    "### Search Agent"
   ]
  },
  {
   "cell_type": "code",
   "execution_count": null,
   "id": "4aa4b88d",
   "metadata": {},
   "outputs": [
    {
     "name": "stderr",
     "output_type": "stream",
     "text": [
      "/Users/tituslim/Documents/Personal Learning Folder/Personal Projects/friendly-happiness/.venv/lib/python3.12/site-packages/pydantic_ai/common_tools/duckduckgo.py:68: RuntimeWarning: This package (`duckduckgo_search`) has been renamed to `ddgs`! Use `pip install ddgs` instead.\n",
      "  DuckDuckGoSearchTool(client=duckduckgo_client or DDGS(), max_results=max_results).__call__,\n"
     ]
    }
   ],
   "source": [
    "from pydantic_ai.common_tools.duckduckgo import duckduckgo_search_tool\n",
    "\n",
    "search_agent = Agent(  \n",
    "    'google-gla:gemini-1.5-flash',\n",
    "    system_prompt='Search DuckDuckGo for the given query and return the results.',  \n",
    "    tools = [duckduckgo_search_tool()]\n",
    ")\n",
    "\n",
    "result = search_agent.run_sync(\n",
    "    \"Where does 'hello world' come from?\"\n",
    ")"
   ]
  },
  {
   "cell_type": "code",
   "execution_count": 68,
   "id": "b446873d",
   "metadata": {},
   "outputs": [
    {
     "data": {
      "text/plain": [
       "AgentRunResult(output='The \"Hello, world!\" program\\'s origins are generally traced back to Brian Kernighan\\'s 1972 internal document, \"A Tutorial Introduction to the Language B\".  While not the very first instance of a similar program, it\\'s considered the seminal example that popularized the phrase and the practice of using it as a introductory programming exercise.  Since then,  \"Hello, world!\" has become a ubiquitous and iconic example used in countless programming tutorials and textbooks.\\n')"
      ]
     },
     "execution_count": 68,
     "metadata": {},
     "output_type": "execute_result"
    }
   ],
   "source": [
    "result"
   ]
  },
  {
   "cell_type": "code",
   "execution_count": 8,
   "id": "2cfc37d6",
   "metadata": {},
   "outputs": [
    {
     "data": {
      "text/markdown": [
       "The \"Hello, world!\" program's origins are generally traced back to Brian Kernighan's 1972 internal document, \"A Tutorial Introduction to the Language B\".  While not the very first instance of a similar program, it's considered the seminal example that popularized the phrase and the practice of using it as a introductory programming exercise.  Since then,  \"Hello, world!\" has become a ubiquitous and iconic example used in countless programming tutorials and textbooks.\n"
      ],
      "text/plain": [
       "<IPython.core.display.Markdown object>"
      ]
     },
     "metadata": {},
     "output_type": "display_data"
    }
   ],
   "source": [
    "from IPython.display import display, Markdown\n",
    "\n",
    "display(Markdown(result.output))"
   ]
  },
  {
   "cell_type": "markdown",
   "id": "bcdd1461",
   "metadata": {},
   "source": [
    "### Stock Agent"
   ]
  },
  {
   "cell_type": "code",
   "execution_count": 60,
   "id": "a3eb61bd",
   "metadata": {},
   "outputs": [],
   "source": [
    "from typing import Any, Optional, Annotated\n",
    "from tqdm.notebook import tqdm\n",
    "import yfinance as yf\n",
    "\n",
    "@dataclass\n",
    "class Username:\n",
    "    name: Annotated[str, \"The user name seeking the input\"]\n",
    "\n",
    "def get_ticker_data(\n",
    "    tickers: list[str], \n",
    "    start_date: Optional[Annotated[str, \"Start date of interest. For example '2025-01-01'\"]] = None,\n",
    "    end_date: Optional[Annotated[str, \"End date of interest. For example '2025-06-30'\"]] = None\n",
    ") -> list[dict[str, Any]]:\n",
    "    \"\"\"Use this tool to get stock ticker data from Yahoo Finance\"\"\"\n",
    "    return yf.download(tickers, start=start_date, end=end_date).to_json()"
   ]
  },
  {
   "cell_type": "code",
   "execution_count": 65,
   "id": "a9dfcc89",
   "metadata": {},
   "outputs": [],
   "source": [
    "stock_agent = Agent(\n",
    "    'google-gla:gemini-2.5-flash',\n",
    "    deps_type=Username,\n",
    "    tools=[get_ticker_data],\n",
    "    system_prompt = \"You are a helpful assistant\"\n",
    ")"
   ]
  },
  {
   "cell_type": "code",
   "execution_count": 66,
   "id": "b90c3a6c",
   "metadata": {},
   "outputs": [
    {
     "name": "stderr",
     "output_type": "stream",
     "text": [
      "/var/folders/zb/r15p7t_d62d8m2s0623s22gh0000gn/T/ipykernel_63958/3106942276.py:15: FutureWarning: YF.download() has changed argument auto_adjust default to True\n",
      "  return yf.download(tickers, start=start_date, end=end_date).to_json()\n",
      "[*********************100%***********************]  2 of 2 completed\n"
     ]
    }
   ],
   "source": [
    "response = await stock_agent.run(\n",
    "    \"Can you analyze the ticker data for Apple and Microsoft from 1 Jun 2025 - 30 Jun 2025?\",\n",
    "    deps = Username(\"Titus\")\n",
    ")"
   ]
  },
  {
   "cell_type": "code",
   "execution_count": 67,
   "id": "14940c8e",
   "metadata": {},
   "outputs": [
    {
     "data": {
      "text/markdown": [
       "Here is an analysis of the ticker data for Apple (AAPL) and Microsoft (MSFT) for June 2025, based on the provided data from June 2, 2025, to June 27, 2025:\n",
       "\n",
       "**Apple (AAPL)**\n",
       "*   **Opening Price (June 2, 2025):** $200.28\n",
       "*   **Closing Price (June 27, 2025):** $201.08\n",
       "*   **Highest Price (during the period):** $206.24\n",
       "*   **Lowest Price (during the period):** $195.07\n",
       "*   **Overall Change:** The price increased by $0.80.\n",
       "*   **Average Daily Volume:** Approximately 53.03 million shares.\n",
       "\n",
       "**Microsoft (MSFT)**\n",
       "*   **Opening Price (June 2, 2025):** $457.14\n",
       "*   **Closing Price (June 27, 2025):** $495.94\n",
       "*   **Highest Price (during the period):** $499.30\n",
       "*   **Lowest Price (during the period):** $456.89\n",
       "*   **Overall Change:** The price increased by $38.80.\n",
       "*   **Average Daily Volume:** Approximately 19.62 million shares."
      ],
      "text/plain": [
       "<IPython.core.display.Markdown object>"
      ]
     },
     "metadata": {},
     "output_type": "display_data"
    }
   ],
   "source": [
    "display(Markdown(response.output))"
   ]
  },
  {
   "cell_type": "code",
   "execution_count": null,
   "id": "47364040",
   "metadata": {},
   "outputs": [],
   "source": []
  }
 ],
 "metadata": {
  "kernelspec": {
   "display_name": "friendly-happiness",
   "language": "python",
   "name": "python3"
  },
  "language_info": {
   "codemirror_mode": {
    "name": "ipython",
    "version": 3
   },
   "file_extension": ".py",
   "mimetype": "text/x-python",
   "name": "python",
   "nbconvert_exporter": "python",
   "pygments_lexer": "ipython3",
   "version": "3.12.5"
  }
 },
 "nbformat": 4,
 "nbformat_minor": 5
}

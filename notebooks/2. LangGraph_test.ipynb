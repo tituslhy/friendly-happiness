{
 "cells": [
  {
   "cell_type": "code",
   "execution_count": 7,
   "id": "7d82348a",
   "metadata": {},
   "outputs": [],
   "source": [
    "from langchain_core.tools import tool\n",
    "from langchain_ollama import ChatOllama\n",
    "from langgraph.prebuilt import create_react_agent\n",
    "\n",
    "llm = ChatOllama(\n",
    "    model=\"qwen3\",\n",
    "    temperature=0\n",
    ")\n",
    "\n",
    "@tool\n",
    "def get_weather(city: str) -> str:\n",
    "    \"\"\"Get the current weather in a city.\"\"\"\n",
    "    return f\"The current weather in {city} is sunny.\"\n",
    "\n",
    "agent = create_react_agent(\n",
    "    model=llm,\n",
    "    tools=[get_weather],\n",
    ")"
   ]
  },
  {
   "cell_type": "code",
   "execution_count": 8,
   "id": "4fa60f17",
   "metadata": {},
   "outputs": [],
   "source": [
    "response = agent.invoke(\n",
    "    {\n",
    "        \"messages\": [\n",
    "            {\"role\": \"user\", \"content\": \"What's the weather like in New York?\"}\n",
    "        ]\n",
    "    }\n",
    ")"
   ]
  },
  {
   "cell_type": "code",
   "execution_count": 9,
   "id": "e7a5075d",
   "metadata": {},
   "outputs": [
    {
     "data": {
      "text/plain": [
       "{'messages': [HumanMessage(content=\"What's the weather like in New York?\", additional_kwargs={}, response_metadata={}, id='d9765ab9-3b59-439f-a0a3-af360686725f'),\n",
       "  AIMessage(content='<think>\\nOkay, the user is asking about the weather in New York. Let me check the tools provided. There\\'s a function called get_weather that takes a city parameter. Since they mentioned New York, I need to call that function with the city set to \"New York\". I should make sure the JSON is correctly formatted with the city name. No other parameters are needed here. Alright, I\\'ll structure the tool call accordingly.\\n</think>\\n\\n', additional_kwargs={}, response_metadata={'model': 'qwen3', 'created_at': '2025-07-14T14:59:28.98083Z', 'done': True, 'done_reason': 'stop', 'total_duration': 8133741417, 'load_duration': 5463932083, 'prompt_eval_count': 147, 'prompt_eval_duration': 652354000, 'eval_count': 110, 'eval_duration': 2015967792, 'model_name': 'qwen3'}, id='run--0884189c-57d1-4882-b1a2-1b2d994900e3-0', tool_calls=[{'name': 'get_weather', 'args': {'city': 'New York'}, 'id': 'f3e2d9ed-40d3-4df1-ac8b-51d01fa15f0a', 'type': 'tool_call'}], usage_metadata={'input_tokens': 147, 'output_tokens': 110, 'total_tokens': 257}),\n",
       "  ToolMessage(content='The current weather in New York is sunny.', name='get_weather', id='150bb51a-78fb-4df6-9f04-bf11b7e44b83', tool_call_id='f3e2d9ed-40d3-4df1-ac8b-51d01fa15f0a'),\n",
       "  AIMessage(content='<think>\\n</think>\\n\\nThe current weather in New York is sunny.', additional_kwargs={}, response_metadata={'model': 'qwen3', 'created_at': '2025-07-14T14:59:29.324252Z', 'done': True, 'done_reason': 'stop', 'total_duration': 340663375, 'load_duration': 18866583, 'prompt_eval_count': 258, 'prompt_eval_duration': 76697709, 'eval_count': 14, 'eval_duration': 242644666, 'model_name': 'qwen3'}, id='run--e28f03f5-1928-4420-8489-80a31c1d3b98-0', usage_metadata={'input_tokens': 258, 'output_tokens': 14, 'total_tokens': 272})]}"
      ]
     },
     "execution_count": 9,
     "metadata": {},
     "output_type": "execute_result"
    }
   ],
   "source": [
    "response"
   ]
  },
  {
   "cell_type": "code",
   "execution_count": 10,
   "id": "63222bc1",
   "metadata": {},
   "outputs": [
    {
     "data": {
      "text/markdown": [
       "<think>\n",
       "</think>\n",
       "\n",
       "The current weather in New York is sunny."
      ],
      "text/plain": [
       "<IPython.core.display.Markdown object>"
      ]
     },
     "metadata": {},
     "output_type": "display_data"
    }
   ],
   "source": [
    "from IPython.display import display, Markdown\n",
    "\n",
    "display(Markdown(response['messages'][-1].content))"
   ]
  },
  {
   "cell_type": "code",
   "execution_count": null,
   "id": "42a5ec79",
   "metadata": {},
   "outputs": [],
   "source": []
  }
 ],
 "metadata": {
  "kernelspec": {
   "display_name": "friendly-happiness",
   "language": "python",
   "name": "python3"
  },
  "language_info": {
   "codemirror_mode": {
    "name": "ipython",
    "version": 3
   },
   "file_extension": ".py",
   "mimetype": "text/x-python",
   "name": "python",
   "nbconvert_exporter": "python",
   "pygments_lexer": "ipython3",
   "version": "3.12.5"
  }
 },
 "nbformat": 4,
 "nbformat_minor": 5
}
